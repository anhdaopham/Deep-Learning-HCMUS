{
  "nbformat": 4,
  "nbformat_minor": 0,
  "metadata": {
    "colab": {
      "name": "MHNC_TH2_1611039.ipynb",
      "provenance": [],
      "collapsed_sections": []
    },
    "kernelspec": {
      "name": "python3",
      "display_name": "Python 3"
    }
  },
  "cells": [
    {
      "cell_type": "code",
      "metadata": {
        "id": "Na96pEFxcEhy"
      },
      "source": [
        "#import thư viện cần thiết\n",
        "## thư viện machine learning và hỗ trợ\n",
        "import tensorflow as tf\n",
        "from tensorflow import keras\n",
        "import numpy as np\n",
        "\n",
        "## thư viện để vẽ đồ thị\n",
        "import matplotlib.pyplot as plt"
      ],
      "execution_count": 1,
      "outputs": []
    },
    {
      "cell_type": "code",
      "metadata": {
        "id": "3e_NwSx0dyaa",
        "outputId": "c72ae22a-20f2-429f-c47c-8b61004a1901",
        "colab": {
          "base_uri": "https://localhost:8080/",
          "height": 367
        }
      },
      "source": [
        "# Tải dataset MNIST từ tensorflow\n",
        "## MNIST là bài toán dự đoán một ảnh thể hiện ký tự số nào\n",
        "\n",
        "## tải MNIST dataset từ keras\n",
        "(X_train, y_train), (X_test, y_test) = keras.datasets.mnist.load_data()\n",
        "##resacle ảnh thành ảnh thực trong đoạn [0,1]\n",
        "X_train, X_test = X_train/255.0, X_test/255.0\n",
        "\n",
        "##in dataset\n",
        "print(X_train.shape, y_train.shape, X_test.shape, y_test.shape)\n",
        "print(\"Có 60000 ảnh dùng để train và valid, 10000 ảnh dùng để test\")\n",
        "print(\"Mỗi ảnh có một kênh màu, kích thước 28x28\")\n",
        "print()\n",
        "\n",
        "## in thử ảnh một ảnh\n",
        "print(\"Ảnh đầu tiên của tập train\")\n",
        "print(\"Label đầu tiên của tập train: \", y_train[0])\n",
        "plt.imshow(X_train[0], cmap='gray')\n",
        "plt.show()\n",
        "\n",
        "#Tách một phần tập train thành tập valid\n",
        "from sklearn.model_selection import train_test_split\n",
        "X_train, X_valid, y_train, y_valid = train_test_split(X_train, y_train, test_size=0.1)"
      ],
      "execution_count": 2,
      "outputs": [
        {
          "output_type": "stream",
          "text": [
            "(60000, 28, 28) (60000,) (10000, 28, 28) (10000,)\n",
            "Có 60000 ảnh dùng để train và valid, 10000 ảnh dùng để test\n",
            "Mỗi ảnh có một kênh màu, kích thước 28x28\n",
            "\n",
            "Ảnh đầu tiên của tập train\n",
            "Label đầu tiên của tập train:  5\n"
          ],
          "name": "stdout"
        },
        {
          "output_type": "display_data",
          "data": {
            "image/png": "[encoded data removed]",
            "text/plain": [
              "<Figure size 432x288 with 1 Axes>"
            ]
          },
          "metadata": {
            "tags": [],
            "needs_background": "light"
          }
        }
      ]
    },
    {
      "cell_type": "markdown",
      "metadata": {
        "id": "140QSR_Zgk0t"
      },
      "source": [
        "# **1. Tạo một class DoubleFullyConnectedLayer với hàm activation lớp fully connected đầu là relu và lớp fully connected tiếp theo là softmax**"
      ]
    },
    {
      "cell_type": "code",
      "metadata": {
        "id": "V-3yJcnRQXjK"
      },
      "source": [
        "from keras import backend as K\n",
        "from keras.models import Model\n",
        "import tensorflow as tf\n",
        "from keras.layers import Input, Layer\n",
        "\n",
        "class DoubleFullyConnectedLayer(Layer):\n",
        "    def __init__(self, n_units, activation_1=tf.nn.relu, activation_2=tf.nn.softmax):\n",
        "        print(\"__init__ called\")\n",
        "        ## n_units, activation là tham số do mình tự định nghĩa\n",
        "        ## n_units thể hiện số nơ-ron của lớp fully connected\n",
        "        ## activation là hàm kích hoạt\n",
        "        \n",
        "        # gọi hàm khởi tạo của lớp cha\n",
        "        super(DoubleFullyConnectedLayer, self).__init__()\n",
        "        # lưu lại số nơ-ron của lớp này\n",
        "        self.n_units = n_units\n",
        "        self.activation_function_1 = activation_1\n",
        "        self.activation_function_2 = activation_2\n",
        "\n",
        "    def build(self, input_shape):\n",
        "        print(\"build called\")\n",
        "        self.kernel_1 = self.add_variable(name='kernel_1',\n",
        "                                        shape=[int(input_shape[-1]), self.n_units*5],           # (*)\n",
        "                                        initializer=keras.initializers.RandomNormal(mean=0.0, stddev=0.01))\n",
        "        self.kernel_2 = self.add_variable(name='kernel_2',\n",
        "                                        shape=[int(self.kernel_1.shape[-1]), self.n_units], \n",
        "                                        initializer=keras.initializers.RandomNormal(mean=0.0, stddev=0.01))\n",
        "        \n",
        "        ## Tương tự, khai báo một vector bias\n",
        "        self.bias_1 = self.add_variable(name='bias_1',\n",
        "                                      shape=[self.n_units*5],                                   # (*')\n",
        "                                      initializer=keras.initializers.Ones())\n",
        "        self.bias_2 = self.add_variable(name='bias_2',\n",
        "                                      shape=[self.n_units],\n",
        "                                      initializer=keras.initializers.Ones())\n",
        "\n",
        "\n",
        "    def call(self, inputs):\n",
        "        print(\"call called\")\n",
        "\n",
        "        ## input chính là một lớp keras (hoặc tensor) truyền vào layer này\n",
        "        ## tham số input là bắt buộc\n",
        "        \n",
        "        ## Công thức toán học của lớp này\n",
        "        ## tensorflow có hỗ broadcasting nên self.bias sẽ được cộng vào từng dòng của ma trận\n",
        "        matmul_1 = tf.matmul(inputs, self.kernel_1) + self.bias_1\n",
        "        outputs_1 = self.activation_function_1(matmul_1)  ##áp dụng hàm kích hoạt\n",
        "        matmul_2 = tf.matmul(outputs_1, self.kernel_2) + self.bias_2\n",
        "        outputs_2 = self.activation_function_2(matmul_2)  ##áp dụng hàm kích hoạt\n",
        "        return outputs_2"
      ],
      "execution_count": 4,
      "outputs": []
    },
    {
      "cell_type": "code",
      "metadata": {
        "id": "9SPzX2_ogbny"
      },
      "source": [
        "class ConvMaxpoolBlock(keras.layers.Layer):\n",
        "    ## Lớp này sẽ xây dựng lớp convolutional layer và maxpooling\n",
        "    \n",
        "    \n",
        "    def __init__(self, filter_size, n_filters):\n",
        "        ## filter_size sẽ dùng như là kích thước của filter của lớp convolution\n",
        "        ## là một list 2 phần tử\n",
        "        ## n_filters là số filter của lớp convolution\n",
        "        ## là một số nguyên\n",
        "        \n",
        "        # gọi hàm khởi tạo của lớp cha\n",
        "        super(ConvMaxpoolBlock, self).__init__()\n",
        "        # lưu lại mấy thông số\n",
        "        self.filter_size = filter_size\n",
        "        self.n_filters = n_filters\n",
        "        \n",
        "    def build(self, input_shape):\n",
        "        ## ta giả sử input là một tensor (layer) có kích thước [None, height, weight, n_channels]\n",
        "        \n",
        "        ## khởi tạo và khai báo kernel\n",
        "        self.kernel = self.add_variable(name='kernel',\n",
        "                                        shape=[self.filter_size[0], self.filter_size[1], int(input_shape[-1]), self.n_filters],\n",
        "                                        initializer=keras.initializers.RandomNormal(mean=0.0, stddev=0.05))\n",
        "        \n",
        "        ## khởi tạo và khai báo bias\n",
        "        self.bias = self.add_variable(name='bias',\n",
        "                                      shape=[self.n_filters],\n",
        "                                        initializer=keras.initializers.Ones())\n",
        "        \n",
        "    def call(self, inputs):\n",
        "        ## phép toán tích chập\n",
        "        conv = K.conv2d(x=inputs,\n",
        "                            kernel=self.kernel,\n",
        "                       padding='same')\n",
        "        ## cộng bias (có broadcasting hỗ trợ nên lập trình đơn giản)\n",
        "        conv = conv + self.bias\n",
        "        ## áp dụng hàm kích hoạt\n",
        "        conv = tf.nn.relu(conv)\n",
        "        ## áp dụng maxpooling\n",
        "        maxpool = K.pool2d(conv, \n",
        "                           pool_size=(2,2), \n",
        "                           strides=(2,2),\n",
        "                          pool_mode='max')\n",
        "                          \n",
        "        return maxpool"
      ],
      "execution_count": 5,
      "outputs": []
    },
    {
      "cell_type": "markdown",
      "metadata": {
        "id": "D1VrbONJisvw"
      },
      "source": [
        "# **2. Huấn luyện một neural-network theo cấu trúc đã cho**"
      ]
    },
    {
      "cell_type": "code",
      "metadata": {
        "id": "F3pAzQ_wjcjs",
        "outputId": "bc641c09-4a67-4a82-8722-0ac27a3ae735",
        "colab": {
          "base_uri": "https://localhost:8080/"
        }
      },
      "source": [
        "## Tạo layer input, mỗi data point có kích thước (28,28)\n",
        "inputs = keras.layers.Input(shape=(28,28))\n",
        "print(\"Kích thước input: {}, None tượng trưng cho số lượng ảnh một batch không xác định trước\".format(inputs.shape))\n",
        "\n",
        "## Reshape input\n",
        "inputs_reshape = keras.layers.Reshape((28,28,1))(inputs)\n",
        "print(\"Kích thước sau reshape: {}\".format(inputs_reshape.shape))\n",
        "\n",
        "## Conv maxpool lần 1\n",
        "conv_maxpool_1 = ConvMaxpoolBlock([5,5],20)(inputs_reshape)               # (1)\n",
        "print(\"Kích thước sau conv maxpool lần 1: {}\".format(conv_maxpool_1.shape))\n",
        "\n",
        "## Conv maxpool lần 2\n",
        "conv_maxpool_2 = ConvMaxpoolBlock([5,5],20)(conv_maxpool_1)               # (2)\n",
        "print(\"Kích thước sau conv maxpool lần 1: {}\".format(conv_maxpool_2.shape))\n",
        "\n",
        "## Flatten\n",
        "flatten = keras.layers.Flatten()(conv_maxpool_2)\n",
        "print(\"Kích thước flatten: {}\".format(flatten.shape))\n",
        "\n",
        "## DoubleFullyConnected\n",
        "double_fullyconnected = DoubleFullyConnectedLayer(n_units=10)(flatten)\n",
        "print(\"Kích thước double fully connected : {}\".format(double_fullyconnected.shape))"
      ],
      "execution_count": 6,
      "outputs": [
        {
          "output_type": "stream",
          "text": [
            "Kích thước input: (None, 28, 28), None tượng trưng cho số lượng ảnh một batch không xác định trước\n",
            "Kích thước sau reshape: (None, 28, 28, 1)\n",
            "WARNING:tensorflow:From <ipython-input-5-ded97da5e381>:23: Layer.add_variable (from tensorflow.python.keras.engine.base_layer) is deprecated and will be removed in a future version.\n",
            "Instructions for updating:\n",
            "Please use `layer.add_weight` method instead.\n",
            "Kích thước sau conv maxpool lần 1: (None, 14, 14, 20)\n",
            "Kích thước sau conv maxpool lần 1: (None, 7, 7, 20)\n",
            "Kích thước flatten: (None, 980)\n",
            "__init__ called\n",
            "build called\n",
            "call called\n",
            "Kích thước double fully connected : (None, 10)\n"
          ],
          "name": "stdout"
        }
      ]
    },
    {
      "cell_type": "markdown",
      "metadata": {
        "id": "x0lhbTsQ5PxT"
      },
      "source": [
        "Theo *Lab01*, ta có:\n",
        "\n",
        "\n",
        "*   parameters of **conv2d**: ((shape of width of filter * shape of height filter * number of filters in the previous layer + 1) * number of filters)\n",
        "\n",
        "\n",
        "*   parameters of **fully connected**: ((previous layer p * current layer c) + 1 * c)\n",
        "\n",
        "\n",
        "- Giải thích $(1)$: Ta chưa biết size của filter là bao nhiêu ( width và height, đặt width = height = $n_1$), number of filters in the previous layer = 1 (previous layer is  reshape) => ( $n_1 * n_1 * 1 +1)*20 = 520 => n_1 = 5$ \n",
        "\n",
        "  => [shape of width of filter, shape of height filter] = [5,5]\n",
        "\n",
        "- Giải thích $(2)$: Tương tự như trên, number of filters in the previous layer = 20 (previous layer is  conv_maxpool) => ( $n_2 * n_2 * 20 +1)*20 = 10020 => n_2 = 5$ \n",
        "\n",
        "  => [shape of width of filter, shape of height filter] = [5,5]\n",
        "\n",
        "\n",
        "  - Giải thích $(*)$ và $(*')$: Dựa vào công thức tính số lượng parameters của lớp fully connected, ta có: \n",
        "      + Lớp fully connected thứ 1, số lượng parameters = $(980 * c) + 1 * c$\n",
        "      + Lớp fully connected thứ 2, số lượng parameters = $(c * 10) + 1 * 10$\n",
        "\n",
        "      Theo đề bài, số lượng parameters này bằng 49560\n",
        "\n",
        "      => $(980 * c) + 1 * c + (c * 10) + 1 * 10 = 49560$\n",
        "\n",
        "      => $c = 50$\n",
        "\n",
        "      Do đó, n_units ở lớp fully connected thứ 2 = 10 thì **n_units** ở lớp fully connected thứ 1 = **50** và n_units ở bias cũng phải bằng n_units ở kernel\n",
        "\n",
        "    \n",
        "\n",
        "\n",
        "\n",
        "\n"
      ]
    },
    {
      "cell_type": "code",
      "metadata": {
        "id": "OMHPln2ljPUD",
        "outputId": "1964ab6e-bdde-40c5-93d5-2185975dcccc",
        "colab": {
          "base_uri": "https://localhost:8080/"
        }
      },
      "source": [
        "## Tạo model, với input là lớp inputs, outputs là lớp double fully connected\n",
        "model = keras.models.Model(inputs=inputs, outputs=double_fullyconnected)\n",
        "\n",
        "## Compile model\n",
        "  \n",
        "model.compile(optimizer='adam',\n",
        "             loss=tf.keras.losses.sparse_categorical_crossentropy,\n",
        "             metrics=[\"accuracy\"])\n",
        "    \n",
        "\n",
        "## In toàn bộ cấu trúc của model\n",
        "print(\"Cấu trúc của model: \")\n",
        "model.summary()"
      ],
      "execution_count": 7,
      "outputs": [
        {
          "output_type": "stream",
          "text": [
            "Cấu trúc của model: \n",
            "Model: \"functional_1\"\n",
            "_________________________________________________________________\n",
            "Layer (type)                 Output Shape              Param #   \n",
            "=================================================================\n",
            "input_1 (InputLayer)         [(None, 28, 28)]          0         \n",
            "_________________________________________________________________\n",
            "reshape (Reshape)            (None, 28, 28, 1)         0         \n",
            "_________________________________________________________________\n",
            "conv_maxpool_block (ConvMaxp (None, 14, 14, 20)        520       \n",
            "_________________________________________________________________\n",
            "conv_maxpool_block_1 (ConvMa (None, 7, 7, 20)          10020     \n",
            "_________________________________________________________________\n",
            "flatten (Flatten)            (None, 980)               0         \n",
            "_________________________________________________________________\n",
            "double_fully_connected_layer (None, 10)                49560     \n",
            "=================================================================\n",
            "Total params: 60,100\n",
            "Trainable params: 60,100\n",
            "Non-trainable params: 0\n",
            "_________________________________________________________________\n"
          ],
          "name": "stdout"
        }
      ]
    },
    {
      "cell_type": "markdown",
      "metadata": {
        "id": "BhxFNwySVtfA"
      },
      "source": [
        "**Training**"
      ]
    },
    {
      "cell_type": "code",
      "metadata": {
        "id": "lYHLBBeQVspD",
        "outputId": "8fe77372-b298-4c62-d750-c8a88c241a29",
        "colab": {
          "base_uri": "https://localhost:8080/"
        }
      },
      "source": [
        "history=model.fit(X_train,y_train,\n",
        "                  epochs=10,\n",
        "                  batch_size=256,\n",
        "                  validation_data=(X_valid,y_valid))\n",
        "\n",
        "## Lưu model thành một file\n",
        "model.save_weights(\"first_model.h5\")\n",
        "\n",
        "\n",
        "## Load model\n",
        "model.load_weights(\"first_model.h5\")\n",
        "\n",
        "## Đánh giá model trên tập test\n",
        "test_loss, test_acc = model.evaluate(X_test, y_test)\n",
        "print(\"Loss trên tập test: \", test_loss,\" Accuracy trên tập test: \", test_acc)"
      ],
      "execution_count": 9,
      "outputs": [
        {
          "output_type": "stream",
          "text": [
            "Epoch 1/10\n",
            "211/211 [==============================] - 60s 285ms/step - loss: 0.2699 - accuracy: 0.9171 - val_loss: 0.1905 - val_accuracy: 0.9413\n",
            "Epoch 2/10\n",
            "211/211 [==============================] - 61s 288ms/step - loss: 0.1473 - accuracy: 0.9553 - val_loss: 0.1199 - val_accuracy: 0.9653\n",
            "Epoch 3/10\n",
            "211/211 [==============================] - 60s 286ms/step - loss: 0.1007 - accuracy: 0.9693 - val_loss: 0.0935 - val_accuracy: 0.9703\n",
            "Epoch 4/10\n",
            "211/211 [==============================] - 64s 304ms/step - loss: 0.0805 - accuracy: 0.9747 - val_loss: 0.0881 - val_accuracy: 0.9720\n",
            "Epoch 5/10\n",
            "211/211 [==============================] - 60s 286ms/step - loss: 0.0662 - accuracy: 0.9796 - val_loss: 0.0814 - val_accuracy: 0.9763\n",
            "Epoch 6/10\n",
            "211/211 [==============================] - 60s 286ms/step - loss: 0.0579 - accuracy: 0.9817 - val_loss: 0.0609 - val_accuracy: 0.9807\n",
            "Epoch 7/10\n",
            "211/211 [==============================] - 61s 288ms/step - loss: 0.0524 - accuracy: 0.9834 - val_loss: 0.0642 - val_accuracy: 0.9798\n",
            "Epoch 8/10\n",
            "211/211 [==============================] - 61s 288ms/step - loss: 0.0495 - accuracy: 0.9845 - val_loss: 0.0567 - val_accuracy: 0.9838\n",
            "Epoch 9/10\n",
            "211/211 [==============================] - 60s 286ms/step - loss: 0.0432 - accuracy: 0.9864 - val_loss: 0.0520 - val_accuracy: 0.9832\n",
            "Epoch 10/10\n",
            "211/211 [==============================] - 60s 285ms/step - loss: 0.0398 - accuracy: 0.9878 - val_loss: 0.0555 - val_accuracy: 0.9823\n",
            "313/313 [==============================] - 4s 12ms/step - loss: 0.0395 - accuracy: 0.9868\n",
            "Loss trên tập test:  0.03952398523688316  Accuracy trên tập test:  0.9868000149726868\n"
          ],
          "name": "stdout"
        }
      ]
    },
    {
      "cell_type": "markdown",
      "metadata": {
        "id": "pAPZ9tpFYr3E"
      },
      "source": [
        "# **3. Vẽ biểu đồ accuracy từng epoch trên tập training và tập validation**"
      ]
    },
    {
      "cell_type": "code",
      "metadata": {
        "id": "jt6qx7JwYlAy",
        "outputId": "2cd234fe-3ecd-4d13-aeff-ab3b17413647",
        "colab": {
          "base_uri": "https://localhost:8080/"
        }
      },
      "source": [
        "# list all data in history\n",
        "print(history.history.keys())"
      ],
      "execution_count": 32,
      "outputs": [
        {
          "output_type": "stream",
          "text": [
            "dict_keys(['loss', 'accuracy', 'val_loss', 'val_accuracy'])\n"
          ],
          "name": "stdout"
        }
      ]
    },
    {
      "cell_type": "code",
      "metadata": {
        "id": "8e_XtvXzbNlS",
        "outputId": "73243d98-db89-473f-a74c-d7513908f7c6",
        "colab": {
          "base_uri": "https://localhost:8080/",
          "height": 295
        }
      },
      "source": [
        "acc_train = history.history['accuracy']\n",
        "acc_val = history.history['val_accuracy']\n",
        "epochs = range(1,11) #có 10 epochs\n",
        "plt.scatter(epochs, acc_train, c = 'b', label='Training accuracy')\n",
        "plt.plot(epochs, acc_val, c = 'b', label='validation accuracy')\n",
        "plt.title('Training and Validation accuracy')\n",
        "plt.xlabel('Epochs')\n",
        "plt.ylabel('Accuracy')\n",
        "plt.legend()\n",
        "plt.show()"
      ],
      "execution_count": 33,
      "outputs": [
        {
          "output_type": "display_data",
          "data": {
            "image/png": "[encoded data removed]",
            "text/plain": [
              "<Figure size 432x288 with 1 Axes>"
            ]
          },
          "metadata": {
            "tags": [],
            "needs_background": "light"
          }
        }
      ]
    }
  ]
}