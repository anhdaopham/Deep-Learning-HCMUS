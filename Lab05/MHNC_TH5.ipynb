{
  "nbformat": 4,
  "nbformat_minor": 0,
  "metadata": {
    "accelerator": "GPU",
    "colab": {
      "name": "MHNC_TH5_1611039.ipynb",
      "provenance": [],
      "collapsed_sections": []
    },
    "kernelspec": {
      "display_name": "Python 3",
      "name": "python3"
    }
  },
  "cells": [
    {
      "cell_type": "code",
      "metadata": {
        "id": "gXIhPF95KW1L"
      },
      "source": [
        "from __future__ import absolute_import, division, print_function, unicode_literals"
      ],
      "execution_count": 1,
      "outputs": []
    },
    {
      "cell_type": "code",
      "metadata": {
        "id": "nI9v-7gpMdMP"
      },
      "source": [
        "#Thư viện\n",
        "import pandas as pd\n",
        "import numpy as np\n",
        "from matplotlib import pyplot as plt\n",
        "from keras.preprocessing.text import Tokenizer\n",
        "from keras.preprocessing.sequence import pad_sequences\n",
        "from sklearn.model_selection import train_test_split\n",
        "from keras.utils import to_categorical\n",
        "import nltk\n",
        "import keras"
      ],
      "execution_count": 2,
      "outputs": []
    },
    {
      "cell_type": "code",
      "metadata": {
        "colab": {
          "base_uri": "https://localhost:8080/",
          "height": 35
        },
        "id": "0v0vboQpLRb6",
        "outputId": "d06e9ff2-e5da-4883-d400-476b252e8bec"
      },
      "source": [
        "import tensorflow as tf\n",
        "tf.__version__"
      ],
      "execution_count": 3,
      "outputs": [
        {
          "output_type": "execute_result",
          "data": {
            "application/vnd.google.colaboratory.intrinsic+json": {
              "type": "string"
            },
            "text/plain": [
              "'2.3.0'"
            ]
          },
          "metadata": {
            "tags": []
          },
          "execution_count": 3
        }
      ]
    },
    {
      "cell_type": "code",
      "metadata": {
        "colab": {
          "base_uri": "https://localhost:8080/"
        },
        "id": "fq0wEFcqMgDn",
        "outputId": "30c706a4-c28d-4417-81e4-7e57bf75f35b"
      },
      "source": [
        "nltk.download('punkt')"
      ],
      "execution_count": 4,
      "outputs": [
        {
          "output_type": "stream",
          "text": [
            "[nltk_data] Downloading package punkt to /root/nltk_data...\n",
            "[nltk_data]   Package punkt is already up-to-date!\n"
          ],
          "name": "stdout"
        },
        {
          "output_type": "execute_result",
          "data": {
            "text/plain": [
              "True"
            ]
          },
          "metadata": {
            "tags": []
          },
          "execution_count": 4
        }
      ]
    },
    {
      "cell_type": "code",
      "metadata": {
        "colab": {
          "base_uri": "https://localhost:8080/"
        },
        "id": "tK4FUgnsMlCV",
        "outputId": "f58d47d0-74fc-43d1-86a3-cf72f8352ada"
      },
      "source": [
        "!wget http://nlp.stanford.edu/data/glove.6B.zip"
      ],
      "execution_count": 5,
      "outputs": [
        {
          "output_type": "stream",
          "text": [
            "--2020-11-24 12:07:53--  http://nlp.stanford.edu/data/glove.6B.zip\n",
            "Resolving nlp.stanford.edu (nlp.stanford.edu)... 171.64.67.140\n",
            "Connecting to nlp.stanford.edu (nlp.stanford.edu)|171.64.67.140|:80... connected.\n",
            "HTTP request sent, awaiting response... 302 Found\n",
            "Location: https://nlp.stanford.edu/data/glove.6B.zip [following]\n",
            "--2020-11-24 12:07:53--  https://nlp.stanford.edu/data/glove.6B.zip\n",
            "Connecting to nlp.stanford.edu (nlp.stanford.edu)|171.64.67.140|:443... connected.\n",
            "HTTP request sent, awaiting response... 301 Moved Permanently\n",
            "Location: http://downloads.cs.stanford.edu/nlp/data/glove.6B.zip [following]\n",
            "--2020-11-24 12:07:53--  http://downloads.cs.stanford.edu/nlp/data/glove.6B.zip\n",
            "Resolving downloads.cs.stanford.edu (downloads.cs.stanford.edu)... 171.64.64.22\n",
            "Connecting to downloads.cs.stanford.edu (downloads.cs.stanford.edu)|171.64.64.22|:80... connected.\n",
            "HTTP request sent, awaiting response... 200 OK\n",
            "Length: 862182613 (822M) [application/zip]\n",
            "Saving to: ‘glove.6B.zip.3’\n",
            "\n",
            "glove.6B.zip.3      100%[===================>] 822.24M  2.13MB/s    in 6m 40s  \n",
            "\n",
            "2020-11-24 12:14:33 (2.06 MB/s) - ‘glove.6B.zip.3’ saved [862182613/862182613]\n",
            "\n"
          ],
          "name": "stdout"
        }
      ]
    },
    {
      "cell_type": "code",
      "metadata": {
        "colab": {
          "base_uri": "https://localhost:8080/"
        },
        "id": "EPfLies1MnKW",
        "outputId": "61efcc57-cc48-48d1-9774-2c1627da8709"
      },
      "source": [
        "! unzip glove.6B.zip"
      ],
      "execution_count": 6,
      "outputs": [
        {
          "output_type": "stream",
          "text": [
            "Archive:  glove.6B.zip\n",
            "replace glove.6B.50d.txt? [y]es, [n]o, [A]ll, [N]one, [r]ename: n\n",
            "replace glove.6B.100d.txt? [y]es, [n]o, [A]ll, [N]one, [r]ename: n\n",
            "replace glove.6B.200d.txt? [y]es, [n]o, [A]ll, [N]one, [r]ename: n\n",
            "replace glove.6B.300d.txt? [y]es, [n]o, [A]ll, [N]one, [r]ename: n\n"
          ],
          "name": "stdout"
        }
      ]
    },
    {
      "cell_type": "code",
      "metadata": {
        "id": "TYoT-ddqPqnE"
      },
      "source": [
        "df_train=pd.read_csv(\"https://raw.githubusercontent.com/huynhthanh98/AML/main/lab-05/train.tsv\", sep=\"\\t\")\n",
        "df_test=pd.read_csv(\"https://raw.githubusercontent.com/huynhthanh98/AML/main/lab-05/test.tsv\", sep=\"\\t\")"
      ],
      "execution_count": 7,
      "outputs": []
    },
    {
      "cell_type": "code",
      "metadata": {
        "colab": {
          "base_uri": "https://localhost:8080/",
          "height": 359
        },
        "id": "Xxds2tJ0PvRw",
        "outputId": "95ee1663-d271-43a1-c067-8566d79aa0ed"
      },
      "source": [
        "df_train.head(10)"
      ],
      "execution_count": 8,
      "outputs": [
        {
          "output_type": "execute_result",
          "data": {
            "text/html": [
              "<div>\n",
              "<style scoped>\n",
              "    .dataframe tbody tr th:only-of-type {\n",
              "        vertical-align: middle;\n",
              "    }\n",
              "\n",
              "    .dataframe tbody tr th {\n",
              "        vertical-align: top;\n",
              "    }\n",
              "\n",
              "    .dataframe thead th {\n",
              "        text-align: right;\n",
              "    }\n",
              "</style>\n",
              "<table border=\"1\" class=\"dataframe\">\n",
              "  <thead>\n",
              "    <tr style=\"text-align: right;\">\n",
              "      <th></th>\n",
              "      <th>PhraseId</th>\n",
              "      <th>SentenceId</th>\n",
              "      <th>Phrase</th>\n",
              "      <th>Sentiment</th>\n",
              "    </tr>\n",
              "  </thead>\n",
              "  <tbody>\n",
              "    <tr>\n",
              "      <th>0</th>\n",
              "      <td>1</td>\n",
              "      <td>1</td>\n",
              "      <td>A series of escapades demonstrating the adage ...</td>\n",
              "      <td>1</td>\n",
              "    </tr>\n",
              "    <tr>\n",
              "      <th>1</th>\n",
              "      <td>2</td>\n",
              "      <td>1</td>\n",
              "      <td>A series of escapades demonstrating the adage ...</td>\n",
              "      <td>2</td>\n",
              "    </tr>\n",
              "    <tr>\n",
              "      <th>2</th>\n",
              "      <td>3</td>\n",
              "      <td>1</td>\n",
              "      <td>A series</td>\n",
              "      <td>2</td>\n",
              "    </tr>\n",
              "    <tr>\n",
              "      <th>3</th>\n",
              "      <td>4</td>\n",
              "      <td>1</td>\n",
              "      <td>A</td>\n",
              "      <td>2</td>\n",
              "    </tr>\n",
              "    <tr>\n",
              "      <th>4</th>\n",
              "      <td>5</td>\n",
              "      <td>1</td>\n",
              "      <td>series</td>\n",
              "      <td>2</td>\n",
              "    </tr>\n",
              "    <tr>\n",
              "      <th>5</th>\n",
              "      <td>6</td>\n",
              "      <td>1</td>\n",
              "      <td>of escapades demonstrating the adage that what...</td>\n",
              "      <td>2</td>\n",
              "    </tr>\n",
              "    <tr>\n",
              "      <th>6</th>\n",
              "      <td>7</td>\n",
              "      <td>1</td>\n",
              "      <td>of</td>\n",
              "      <td>2</td>\n",
              "    </tr>\n",
              "    <tr>\n",
              "      <th>7</th>\n",
              "      <td>8</td>\n",
              "      <td>1</td>\n",
              "      <td>escapades demonstrating the adage that what is...</td>\n",
              "      <td>2</td>\n",
              "    </tr>\n",
              "    <tr>\n",
              "      <th>8</th>\n",
              "      <td>9</td>\n",
              "      <td>1</td>\n",
              "      <td>escapades</td>\n",
              "      <td>2</td>\n",
              "    </tr>\n",
              "    <tr>\n",
              "      <th>9</th>\n",
              "      <td>10</td>\n",
              "      <td>1</td>\n",
              "      <td>demonstrating the adage that what is good for ...</td>\n",
              "      <td>2</td>\n",
              "    </tr>\n",
              "  </tbody>\n",
              "</table>\n",
              "</div>"
            ],
            "text/plain": [
              "   PhraseId  ...  Sentiment\n",
              "0         1  ...          1\n",
              "1         2  ...          2\n",
              "2         3  ...          2\n",
              "3         4  ...          2\n",
              "4         5  ...          2\n",
              "5         6  ...          2\n",
              "6         7  ...          2\n",
              "7         8  ...          2\n",
              "8         9  ...          2\n",
              "9        10  ...          2\n",
              "\n",
              "[10 rows x 4 columns]"
            ]
          },
          "metadata": {
            "tags": []
          },
          "execution_count": 8
        }
      ]
    },
    {
      "cell_type": "code",
      "metadata": {
        "colab": {
          "base_uri": "https://localhost:8080/",
          "height": 204
        },
        "id": "SorXfpY9r_5A",
        "outputId": "d9379160-677d-4ba9-e82a-629350450b89"
      },
      "source": [
        "df_test.head()"
      ],
      "execution_count": 9,
      "outputs": [
        {
          "output_type": "execute_result",
          "data": {
            "text/html": [
              "<div>\n",
              "<style scoped>\n",
              "    .dataframe tbody tr th:only-of-type {\n",
              "        vertical-align: middle;\n",
              "    }\n",
              "\n",
              "    .dataframe tbody tr th {\n",
              "        vertical-align: top;\n",
              "    }\n",
              "\n",
              "    .dataframe thead th {\n",
              "        text-align: right;\n",
              "    }\n",
              "</style>\n",
              "<table border=\"1\" class=\"dataframe\">\n",
              "  <thead>\n",
              "    <tr style=\"text-align: right;\">\n",
              "      <th></th>\n",
              "      <th>PhraseId</th>\n",
              "      <th>SentenceId</th>\n",
              "      <th>Phrase</th>\n",
              "    </tr>\n",
              "  </thead>\n",
              "  <tbody>\n",
              "    <tr>\n",
              "      <th>0</th>\n",
              "      <td>156061</td>\n",
              "      <td>8545</td>\n",
              "      <td>An intermittently pleasing but mostly routine ...</td>\n",
              "    </tr>\n",
              "    <tr>\n",
              "      <th>1</th>\n",
              "      <td>156062</td>\n",
              "      <td>8545</td>\n",
              "      <td>An intermittently pleasing but mostly routine ...</td>\n",
              "    </tr>\n",
              "    <tr>\n",
              "      <th>2</th>\n",
              "      <td>156063</td>\n",
              "      <td>8545</td>\n",
              "      <td>An</td>\n",
              "    </tr>\n",
              "    <tr>\n",
              "      <th>3</th>\n",
              "      <td>156064</td>\n",
              "      <td>8545</td>\n",
              "      <td>intermittently pleasing but mostly routine effort</td>\n",
              "    </tr>\n",
              "    <tr>\n",
              "      <th>4</th>\n",
              "      <td>156065</td>\n",
              "      <td>8545</td>\n",
              "      <td>intermittently pleasing but mostly routine</td>\n",
              "    </tr>\n",
              "  </tbody>\n",
              "</table>\n",
              "</div>"
            ],
            "text/plain": [
              "   PhraseId  SentenceId                                             Phrase\n",
              "0    156061        8545  An intermittently pleasing but mostly routine ...\n",
              "1    156062        8545  An intermittently pleasing but mostly routine ...\n",
              "2    156063        8545                                                 An\n",
              "3    156064        8545  intermittently pleasing but mostly routine effort\n",
              "4    156065        8545         intermittently pleasing but mostly routine"
            ]
          },
          "metadata": {
            "tags": []
          },
          "execution_count": 9
        }
      ]
    },
    {
      "cell_type": "code",
      "metadata": {
        "colab": {
          "base_uri": "https://localhost:8080/"
        },
        "id": "RQX9K9QhPz0-",
        "outputId": "d9fa5509-cea6-4a86-c0c4-226720b5e4dd"
      },
      "source": [
        "print(\"các labels: \",df_train[\"Sentiment\"].unique())"
      ],
      "execution_count": 10,
      "outputs": [
        {
          "output_type": "stream",
          "text": [
            "các labels:  [1 2 3 4 0]\n"
          ],
          "name": "stdout"
        }
      ]
    },
    {
      "cell_type": "markdown",
      "metadata": {
        "id": "5E8elh-wP9Q6"
      },
      "source": [
        "**Pre-processing**"
      ]
    },
    {
      "cell_type": "code",
      "metadata": {
        "id": "jkcEwt9pP-4c"
      },
      "source": [
        "#làm sạch dữ liệu\n",
        "replace_list = {r\"i'm\": 'i am',\n",
        "                r\"'re\": ' are',\n",
        "                r\"let’s\": 'let us',\n",
        "                r\"'s\":  ' is',\n",
        "                r\"'ve\": ' have',\n",
        "                r\"can't\": 'can not',\n",
        "                r\"cannot\": 'can not',\n",
        "                r\"shan’t\": 'shall not',\n",
        "                r\"n't\": ' not',\n",
        "                r\"'d\": ' would',\n",
        "                r\"'ll\": ' will',\n",
        "                r\"'scuse\": 'excuse',\n",
        "                ',': ' ,',\n",
        "                '.': ' .',\n",
        "                '!': ' !',\n",
        "                '?': ' ?',\n",
        "                '\\s+': ' '}\n",
        "def clean_text(text):\n",
        "    text = text.lower()\n",
        "    for s in replace_list:\n",
        "        text = text.replace(s, replace_list[s])\n",
        "    text = ' '.join(text.split())\n",
        "    return text"
      ],
      "execution_count": 11,
      "outputs": []
    },
    {
      "cell_type": "code",
      "metadata": {
        "id": "Y0XoxElcQDFb"
      },
      "source": [
        "data_train=list(df_train.Phrase.map(clean_text))\n",
        "data_test=list(df_test.Phrase.map(clean_text))"
      ],
      "execution_count": 12,
      "outputs": []
    },
    {
      "cell_type": "code",
      "metadata": {
        "colab": {
          "base_uri": "https://localhost:8080/"
        },
        "id": "2JtMa7KEbYxO",
        "outputId": "3690f9d2-8aec-4ddd-a6f6-0c30180efbf8"
      },
      "source": [
        "print(data_train[0:5])"
      ],
      "execution_count": 13,
      "outputs": [
        {
          "output_type": "stream",
          "text": [
            "['a series of escapades demonstrating the adage that what is good for the goose is also good for the gander , some of which occasionally amuses but none of which amounts to much of a story .', 'a series of escapades demonstrating the adage that what is good for the goose', 'a series', 'a', 'series']\n"
          ],
          "name": "stdout"
        }
      ]
    },
    {
      "cell_type": "code",
      "metadata": {
        "colab": {
          "base_uri": "https://localhost:8080/"
        },
        "id": "m1wVAqd2oOjd",
        "outputId": "24212094-ccd6-4cf0-cbdd-46849ffc1873"
      },
      "source": [
        "texts_train = df_train[\"Phrase\"].to_list()\n",
        "texts_train = [text.lower() for text in texts_train ]           # chuyển các đoạn text thành chữ thường (word embedding chỉ cho chữ thường)\n",
        "tokenized_texts_train = [nltk.tokenize.word_tokenize(text) for text in texts_train]    # tách câu thành một list các từ\n",
        "\n",
        "print(tokenized_texts_train[0])"
      ],
      "execution_count": 14,
      "outputs": [
        {
          "output_type": "stream",
          "text": [
            "['a', 'series', 'of', 'escapades', 'demonstrating', 'the', 'adage', 'that', 'what', 'is', 'good', 'for', 'the', 'goose', 'is', 'also', 'good', 'for', 'the', 'gander', ',', 'some', 'of', 'which', 'occasionally', 'amuses', 'but', 'none', 'of', 'which', 'amounts', 'to', 'much', 'of', 'a', 'story', '.']\n"
          ],
          "name": "stdout"
        }
      ]
    },
    {
      "cell_type": "code",
      "metadata": {
        "colab": {
          "base_uri": "https://localhost:8080/"
        },
        "id": "_NDMMY1nrrib",
        "outputId": "3040a01c-0fb6-4c67-dab7-cd3698470ec3"
      },
      "source": [
        "texts_test = df_test[\"Phrase\"].to_list()\n",
        "texts_test = [text.lower() for text in texts_test ]           # chuyển các đoạn text thành chữ thường (word embedding chỉ cho chữ thường)\n",
        "tokenized_texts_test = [nltk.tokenize.word_tokenize(text) for text in texts_test]    # tách câu thành một list các từ\n",
        "\n",
        "print(tokenized_texts_test[0])"
      ],
      "execution_count": 15,
      "outputs": [
        {
          "output_type": "stream",
          "text": [
            "['an', 'intermittently', 'pleasing', 'but', 'mostly', 'routine', 'effort', '.']\n"
          ],
          "name": "stdout"
        }
      ]
    },
    {
      "cell_type": "code",
      "metadata": {
        "id": "4i-G5IzEMqyE"
      },
      "source": [
        "import io\n",
        "import numpy as np\n",
        "def load_word_embeddings(fname):\n",
        "    fin = io.open(fname, 'r', encoding='utf-8', newline='\\n', errors='ignore')\n",
        "    vocab, matrix = [], []\n",
        "    i=0\n",
        "    for line in fin:\n",
        "        tokens = line.rstrip().split(' ')\n",
        "        vocab.append(tokens[0])\n",
        "        matrix.append(list(map(float, tokens[1:])))\n",
        "    return vocab, np.asarray(matrix)"
      ],
      "execution_count": 16,
      "outputs": []
    },
    {
      "cell_type": "code",
      "metadata": {
        "colab": {
          "base_uri": "https://localhost:8080/"
        },
        "id": "1RwRN98sMtFi",
        "outputId": "d6c062d2-63a8-44a3-fcf4-014fd2e6656f"
      },
      "source": [
        "vocab, matrix = load_word_embeddings(\"glove.6B.100d.txt\")\n",
        "matrix"
      ],
      "execution_count": 17,
      "outputs": [
        {
          "output_type": "execute_result",
          "data": {
            "text/plain": [
              "array([[-0.038194, -0.24487 ,  0.72812 , ..., -0.1459  ,  0.8278  ,\n",
              "         0.27062 ],\n",
              "       [-0.10767 ,  0.11053 ,  0.59812 , ..., -0.83155 ,  0.45293 ,\n",
              "         0.082577],\n",
              "       [-0.33979 ,  0.20941 ,  0.46348 , ..., -0.23394 ,  0.47298 ,\n",
              "        -0.028803],\n",
              "       ...,\n",
              "       [ 0.36088 , -0.16919 , -0.32704 , ...,  0.27139 , -0.29188 ,\n",
              "         0.16109 ],\n",
              "       [-0.10461 , -0.5047  , -0.49331 , ...,  0.42527 , -0.5125  ,\n",
              "        -0.17054 ],\n",
              "       [ 0.28365 , -0.6263  , -0.44351 , ...,  0.43678 , -0.82607 ,\n",
              "        -0.15701 ]])"
            ]
          },
          "metadata": {
            "tags": []
          },
          "execution_count": 17
        }
      ]
    },
    {
      "cell_type": "code",
      "metadata": {
        "id": "S5kTEY-Be0SO"
      },
      "source": [
        "## Gán các mã\n",
        "__PADDED_INDEX__ = 0    # mã dùng cho các vị trí chỉ có tính nối dài cho cùng kích thước\n",
        "__UNKNOWN_WORD__ = 1    # mã cho những từ không có trong embedding"
      ],
      "execution_count": 18,
      "outputs": []
    },
    {
      "cell_type": "code",
      "metadata": {
        "id": "x6lrYVYPe5Ax"
      },
      "source": [
        "# Tạo một dictionary, có nhiệm vụ là một ánh xạ từ ảnh sang mã số, mã số được bắt đầu từ 2 vì số 0 và 1 được dành cho trường hợp đặc biệt\n",
        "word_to_index = {word: index+2 for index, word in enumerate(vocab)}"
      ],
      "execution_count": 19,
      "outputs": []
    },
    {
      "cell_type": "code",
      "metadata": {
        "colab": {
          "base_uri": "https://localhost:8080/"
        },
        "id": "01EHLfVhe57N",
        "outputId": "d15d6935-ed82-43c3-df61-1482b29acd2e"
      },
      "source": [
        "# Do do mã số được bắt đầu từ 2, nên cần thêm 2 vector vào đàu ma trận\n",
        "embedding_matrix = np.pad(matrix, [[2,0],[0,0]], mode='constant', constant_values =0.0)\n",
        "print(embedding_matrix)\n",
        "\n",
        "# Khi đó, __PADDED_INDEX__ dùng dòng đầu tiên của  embedding_matrix\n",
        "# __UNKNOWN_WORD__ dùng dòng thứ hai của embedding_matrix"
      ],
      "execution_count": 20,
      "outputs": [
        {
          "output_type": "stream",
          "text": [
            "[[ 0.        0.        0.       ...  0.        0.        0.      ]\n",
            " [ 0.        0.        0.       ...  0.        0.        0.      ]\n",
            " [-0.038194 -0.24487   0.72812  ... -0.1459    0.8278    0.27062 ]\n",
            " ...\n",
            " [ 0.36088  -0.16919  -0.32704  ...  0.27139  -0.29188   0.16109 ]\n",
            " [-0.10461  -0.5047   -0.49331  ...  0.42527  -0.5125   -0.17054 ]\n",
            " [ 0.28365  -0.6263   -0.44351  ...  0.43678  -0.82607  -0.15701 ]]\n"
          ],
          "name": "stdout"
        }
      ]
    },
    {
      "cell_type": "code",
      "metadata": {
        "id": "XAo9dK-7tKMY"
      },
      "source": [
        "def convertData2Index(tokenized_texts):\n",
        "  X = []\n",
        "  for text in tokenized_texts:\n",
        "      cur_text_indices = []\n",
        "      for word in text:\n",
        "          if word in word_to_index:\n",
        "              cur_text_indices.append(word_to_index[word])    ## map từ word sang index\n",
        "          else:\n",
        "              cur_text_indices.append(__UNKNOWN_WORD__)       ## gán unknown cho từ không có trong bộ glove\n",
        "      X.append(cur_text_indices)\n",
        "\n",
        "  ## pad data cho có cùng chiều dài\n",
        "  X = tf.keras.preprocessing.sequence.pad_sequences(sequences=X,       # sequences: list các câu có độ dài không bằng nhau\n",
        "                                                    padding='post')    # vị trí pad là 'pre' (trước) hoặc 'post' (sau)\n",
        "  return X"
      ],
      "execution_count": 21,
      "outputs": []
    },
    {
      "cell_type": "code",
      "metadata": {
        "id": "NFsvFxobte6W"
      },
      "source": [
        "X = convertData2Index(tokenized_texts_train)\n",
        "y = df_train[\"Sentiment\"].values \n",
        "X_test = convertData2Index(tokenized_texts_test)"
      ],
      "execution_count": 22,
      "outputs": []
    },
    {
      "cell_type": "markdown",
      "metadata": {
        "id": "7BAcetZwc9zI"
      },
      "source": [
        "**1. Hãy dùng bộ pre-train glove.6b.100 huấn luyện mô hình LSTM như sau:**"
      ]
    },
    {
      "cell_type": "markdown",
      "metadata": {
        "id": "QeRPRlXvdLvB"
      },
      "source": [
        "![Capture_5_1.PNG](data:image/png;base64,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)"
      ]
    },
    {
      "cell_type": "code",
      "metadata": {
        "colab": {
          "base_uri": "https://localhost:8080/"
        },
        "id": "mX-DRZ4GdKZd",
        "outputId": "558e1115-c376-4a57-97be-8ec54ddbf737"
      },
      "source": [
        "from tensorflow.keras.layers import Input, Embedding, LSTM, Bidirectional, Dense, Dropout\n",
        "from tensorflow.keras.models import Model\n",
        "\n",
        "inputs = Input(shape=(None,))                   ## None biểu thị kích thước không xác định của câu\n",
        "\n",
        "embed = Embedding(input_dim=embedding_matrix.shape[0],   ## Khai báo kích thước của vocab\n",
        "                 output_dim=embedding_matrix.shape[1],   ## Khai báo kích thước của embedding\n",
        "                  embeddings_initializer = tf.keras.initializers.Constant(value=embedding_matrix),  ## Khởi tạo cho embedding bằng ma trận có sẵn\n",
        "                  trainable=False,                       ## Không cần thiết train embedding\n",
        "                 mask_zero=False)(inputs)                 ## zero_mask: những vị trí có giá trị 0 không được tính toán, vì đó là giá trị thêm vào cho đủ độ dài mà thôi\n",
        "                                                         ##  (__PADDED_INDEX__ gán bằng 0)\n",
        "\n",
        "spatial_dropout1D = tf.keras.layers.SpatialDropout1D(rate = 0.4)(embed)\n",
        "lstm = LSTM(units=100,                          ## units: kích thước của hidden_state trong LSTM\n",
        "            return_sequences=False)(spatial_dropout1D)      ## return_sequences: LSTM trả về toàn bộ  hay là trả về hidden_state cuối cùng\n",
        "\n",
        "dense_1 = Dense(units=50, activation=keras.activations.relu)(lstm)\n",
        "\n",
        "dropout = Dropout(rate=0.3)(dense_1)\n",
        "\n",
        "dense_2 = Dense(units=5, activation='softmax')(dropout)\n",
        "model = Model(inputs=inputs,\n",
        "              outputs=dense_2)\n",
        "\n",
        "model.compile(optimizer='adam',\n",
        "             loss='sparse_categorical_crossentropy',\n",
        "            # loss = 'mse',\n",
        "            # metrics = ['categorical_accuracy'])\n",
        "            metrics=['accuracy'])\n",
        "model.summary()"
      ],
      "execution_count": 23,
      "outputs": [
        {
          "output_type": "stream",
          "text": [
            "Model: \"functional_1\"\n",
            "_________________________________________________________________\n",
            "Layer (type)                 Output Shape              Param #   \n",
            "=================================================================\n",
            "input_1 (InputLayer)         [(None, None)]            0         \n",
            "_________________________________________________________________\n",
            "embedding (Embedding)        (None, None, 100)         40000200  \n",
            "_________________________________________________________________\n",
            "spatial_dropout1d (SpatialDr (None, None, 100)         0         \n",
            "_________________________________________________________________\n",
            "lstm (LSTM)                  (None, 100)               80400     \n",
            "_________________________________________________________________\n",
            "dense (Dense)                (None, 50)                5050      \n",
            "_________________________________________________________________\n",
            "dropout (Dropout)            (None, 50)                0         \n",
            "_________________________________________________________________\n",
            "dense_1 (Dense)              (None, 5)                 255       \n",
            "=================================================================\n",
            "Total params: 40,085,905\n",
            "Trainable params: 85,705\n",
            "Non-trainable params: 40,000,200\n",
            "_________________________________________________________________\n"
          ],
          "name": "stdout"
        }
      ]
    },
    {
      "cell_type": "code",
      "metadata": {
        "colab": {
          "base_uri": "https://localhost:8080/"
        },
        "id": "qWnxAUsZqHWU",
        "outputId": "c6d270f6-cb9f-4d8a-ec4b-7fb13a7de50d"
      },
      "source": [
        "from sklearn.model_selection import train_test_split\n",
        "X_train, X_valid, y_train, y_valid = train_test_split(X, y, test_size=0.2, random_state=0)\n",
        "print(\"Shape of X_train: \", X_train.shape)\n",
        "print(\"Shape of X_valid: \", X_valid.shape)"
      ],
      "execution_count": 24,
      "outputs": [
        {
          "output_type": "stream",
          "text": [
            "Shape of X_train:  (124848, 53)\n",
            "Shape of X_valid:  (31212, 53)\n"
          ],
          "name": "stdout"
        }
      ]
    },
    {
      "cell_type": "code",
      "metadata": {
        "colab": {
          "base_uri": "https://localhost:8080/"
        },
        "id": "30UmHzaDnpal",
        "outputId": "026ca673-fa28-4669-ae6a-a52ce62539c2"
      },
      "source": [
        "%%time\n",
        "mc = tf.keras.callbacks.ModelCheckpoint(filepath=\"lstm.h5\", \n",
        "                                     monitor='val_loss',\n",
        "                                     mode='min', \n",
        "                                     verbose=0, \n",
        "                                     save_best_only=True)\n",
        "# Train\n",
        "history = model.fit(X_train, y_train, \n",
        "          validation_data=(X_valid, y_valid),\n",
        "          # batch_size=64,\n",
        "          epochs=20,\n",
        "          callbacks=[mc])\n",
        "\n",
        "model.load_weights(\"lstm.h5\")\n",
        "_, val_acc = model.evaluate(X_valid, y_valid)\n",
        "print(\"Accuracy on valid: \", val_acc)"
      ],
      "execution_count": 25,
      "outputs": [
        {
          "output_type": "stream",
          "text": [
            "Epoch 1/20\n",
            "3902/3902 [==============================] - 45s 11ms/step - loss: 1.1332 - accuracy: 0.5449 - val_loss: 1.0026 - val_accuracy: 0.5894\n",
            "Epoch 2/20\n",
            "3902/3902 [==============================] - 44s 11ms/step - loss: 1.0336 - accuracy: 0.5785 - val_loss: 0.9683 - val_accuracy: 0.6083\n",
            "Epoch 3/20\n",
            "3902/3902 [==============================] - 44s 11ms/step - loss: 0.9993 - accuracy: 0.5887 - val_loss: 0.9384 - val_accuracy: 0.6147\n",
            "Epoch 4/20\n",
            "3902/3902 [==============================] - 44s 11ms/step - loss: 0.9762 - accuracy: 0.5990 - val_loss: 0.9082 - val_accuracy: 0.6229\n",
            "Epoch 5/20\n",
            "3902/3902 [==============================] - 44s 11ms/step - loss: 0.9631 - accuracy: 0.6045 - val_loss: 0.8951 - val_accuracy: 0.6267\n",
            "Epoch 6/20\n",
            "3902/3902 [==============================] - 44s 11ms/step - loss: 0.9501 - accuracy: 0.6083 - val_loss: 0.8896 - val_accuracy: 0.6338\n",
            "Epoch 7/20\n",
            "3902/3902 [==============================] - 45s 12ms/step - loss: 0.9391 - accuracy: 0.6138 - val_loss: 0.8784 - val_accuracy: 0.6370\n",
            "Epoch 8/20\n",
            "3902/3902 [==============================] - 44s 11ms/step - loss: 0.9287 - accuracy: 0.6183 - val_loss: 0.8656 - val_accuracy: 0.6429\n",
            "Epoch 9/20\n",
            "3902/3902 [==============================] - 45s 11ms/step - loss: 0.9162 - accuracy: 0.6225 - val_loss: 0.8545 - val_accuracy: 0.6434\n",
            "Epoch 10/20\n",
            "3902/3902 [==============================] - 22s 6ms/step - loss: 0.9116 - accuracy: 0.6223 - val_loss: 0.8585 - val_accuracy: 0.6470\n",
            "Epoch 11/20\n",
            "3902/3902 [==============================] - 44s 11ms/step - loss: 0.9018 - accuracy: 0.6276 - val_loss: 0.8466 - val_accuracy: 0.6510\n",
            "Epoch 12/20\n",
            "3902/3902 [==============================] - 22s 6ms/step - loss: 0.8964 - accuracy: 0.6298 - val_loss: 0.8570 - val_accuracy: 0.6487\n",
            "Epoch 13/20\n",
            "3902/3902 [==============================] - 44s 11ms/step - loss: 0.8931 - accuracy: 0.6312 - val_loss: 0.8351 - val_accuracy: 0.6544\n",
            "Epoch 14/20\n",
            "3902/3902 [==============================] - 22s 6ms/step - loss: 0.8888 - accuracy: 0.6333 - val_loss: 0.8391 - val_accuracy: 0.6521\n",
            "Epoch 15/20\n",
            "3902/3902 [==============================] - 22s 6ms/step - loss: 0.8859 - accuracy: 0.6349 - val_loss: 0.8421 - val_accuracy: 0.6505\n",
            "Epoch 16/20\n",
            "3902/3902 [==============================] - 45s 12ms/step - loss: 0.8830 - accuracy: 0.6373 - val_loss: 0.8281 - val_accuracy: 0.6561\n",
            "Epoch 17/20\n",
            "3902/3902 [==============================] - 22s 6ms/step - loss: 0.8766 - accuracy: 0.6379 - val_loss: 0.8391 - val_accuracy: 0.6502\n",
            "Epoch 18/20\n",
            "3902/3902 [==============================] - 22s 6ms/step - loss: 0.8748 - accuracy: 0.6383 - val_loss: 0.8283 - val_accuracy: 0.6576\n",
            "Epoch 19/20\n",
            "3902/3902 [==============================] - 23s 6ms/step - loss: 0.8716 - accuracy: 0.6415 - val_loss: 0.8370 - val_accuracy: 0.6505\n",
            "Epoch 20/20\n",
            "3902/3902 [==============================] - 23s 6ms/step - loss: 0.8675 - accuracy: 0.6424 - val_loss: 0.8389 - val_accuracy: 0.6494\n",
            "976/976 [==============================] - 3s 3ms/step - loss: 0.8281 - accuracy: 0.6561\n",
            "Accuracy on valid:  0.6560617685317993\n",
            "CPU times: user 12min 17s, sys: 1min 24s, total: 13min 41s\n",
            "Wall time: 11min 57s\n"
          ],
          "name": "stdout"
        }
      ]
    },
    {
      "cell_type": "code",
      "metadata": {
        "colab": {
          "base_uri": "https://localhost:8080/",
          "height": 265
        },
        "id": "gmmUsW1fRypk",
        "outputId": "7e5f97a0-42c8-449d-df37-ff829e6fe074"
      },
      "source": [
        "# plot training history\n",
        "import matplotlib.pyplot as plt\n",
        "plt.plot(history.history['accuracy'], label='train')\n",
        "plt.plot(history.history['val_accuracy'], label='valid')\n",
        "plt.legend()\n",
        "plt.show()"
      ],
      "execution_count": 26,
      "outputs": [
        {
          "output_type": "display_data",
          "data": {
            "image/png": "[encoded data removed]",
            "text/plain": [
              "<Figure size 432x288 with 1 Axes>"
            ]
          },
          "metadata": {
            "tags": [],
            "needs_background": "light"
          }
        }
      ]
    },
    {
      "cell_type": "code",
      "metadata": {
        "id": "1-fW7UDs2oTt"
      },
      "source": [
        "#predict\n",
        "arr = model.predict(X_test, verbose=0)"
      ],
      "execution_count": 28,
      "outputs": []
    },
    {
      "cell_type": "code",
      "metadata": {
        "id": "RtgyDPpW22tK"
      },
      "source": [
        "#get label of Phrase\n",
        "sentiment_predict = []\n",
        "for i in range(arr.shape[0]):\n",
        "  sentiment_predict.append(np.argmax(arr[i]))"
      ],
      "execution_count": 29,
      "outputs": []
    },
    {
      "cell_type": "code",
      "metadata": {
        "id": "zxrdsvNJ4OAX"
      },
      "source": [
        "df_test2 = df_test.copy()\n",
        "df_test2['Sentiment predict'] = sentiment_predict"
      ],
      "execution_count": 30,
      "outputs": []
    },
    {
      "cell_type": "code",
      "metadata": {
        "colab": {
          "base_uri": "https://localhost:8080/",
          "height": 359
        },
        "id": "qGxneL-A5dcp",
        "outputId": "f58ea8ce-f765-4b9f-f357-efb144da2ebc"
      },
      "source": [
        "df_test2.sample(10)"
      ],
      "execution_count": 31,
      "outputs": [
        {
          "output_type": "execute_result",
          "data": {
            "text/html": [
              "<div>\n",
              "<style scoped>\n",
              "    .dataframe tbody tr th:only-of-type {\n",
              "        vertical-align: middle;\n",
              "    }\n",
              "\n",
              "    .dataframe tbody tr th {\n",
              "        vertical-align: top;\n",
              "    }\n",
              "\n",
              "    .dataframe thead th {\n",
              "        text-align: right;\n",
              "    }\n",
              "</style>\n",
              "<table border=\"1\" class=\"dataframe\">\n",
              "  <thead>\n",
              "    <tr style=\"text-align: right;\">\n",
              "      <th></th>\n",
              "      <th>PhraseId</th>\n",
              "      <th>SentenceId</th>\n",
              "      <th>Phrase</th>\n",
              "      <th>Sentiment predict</th>\n",
              "    </tr>\n",
              "  </thead>\n",
              "  <tbody>\n",
              "    <tr>\n",
              "      <th>9576</th>\n",
              "      <td>165637</td>\n",
              "      <td>8931</td>\n",
              "      <td>treat me like a fool</td>\n",
              "      <td>2</td>\n",
              "    </tr>\n",
              "    <tr>\n",
              "      <th>25244</th>\n",
              "      <td>181305</td>\n",
              "      <td>9694</td>\n",
              "      <td>, nasty , glibly cynical</td>\n",
              "      <td>1</td>\n",
              "    </tr>\n",
              "    <tr>\n",
              "      <th>144</th>\n",
              "      <td>156205</td>\n",
              "      <td>8548</td>\n",
              "      <td>accomplished instead of all this specious Holl...</td>\n",
              "      <td>3</td>\n",
              "    </tr>\n",
              "    <tr>\n",
              "      <th>37732</th>\n",
              "      <td>193793</td>\n",
              "      <td>10305</td>\n",
              "      <td>potentially terrific</td>\n",
              "      <td>3</td>\n",
              "    </tr>\n",
              "    <tr>\n",
              "      <th>6810</th>\n",
              "      <td>162871</td>\n",
              "      <td>8808</td>\n",
              "      <td>quest</td>\n",
              "      <td>2</td>\n",
              "    </tr>\n",
              "    <tr>\n",
              "      <th>64844</th>\n",
              "      <td>220905</td>\n",
              "      <td>11771</td>\n",
              "      <td>cheerful enough but imminently forgettable</td>\n",
              "      <td>3</td>\n",
              "    </tr>\n",
              "    <tr>\n",
              "      <th>26595</th>\n",
              "      <td>182656</td>\n",
              "      <td>9756</td>\n",
              "      <td>revered TV show</td>\n",
              "      <td>2</td>\n",
              "    </tr>\n",
              "    <tr>\n",
              "      <th>43861</th>\n",
              "      <td>199922</td>\n",
              "      <td>10632</td>\n",
              "      <td>still feels like an ugly knot tightening in yo...</td>\n",
              "      <td>0</td>\n",
              "    </tr>\n",
              "    <tr>\n",
              "      <th>40042</th>\n",
              "      <td>196103</td>\n",
              "      <td>10431</td>\n",
              "      <td>with pentacostal practices in general and thea...</td>\n",
              "      <td>2</td>\n",
              "    </tr>\n",
              "    <tr>\n",
              "      <th>12642</th>\n",
              "      <td>168703</td>\n",
              "      <td>9080</td>\n",
              "      <td>parable</td>\n",
              "      <td>2</td>\n",
              "    </tr>\n",
              "  </tbody>\n",
              "</table>\n",
              "</div>"
            ],
            "text/plain": [
              "       PhraseId  ...  Sentiment predict\n",
              "9576     165637  ...                  2\n",
              "25244    181305  ...                  1\n",
              "144      156205  ...                  3\n",
              "37732    193793  ...                  3\n",
              "6810     162871  ...                  2\n",
              "64844    220905  ...                  3\n",
              "26595    182656  ...                  2\n",
              "43861    199922  ...                  0\n",
              "40042    196103  ...                  2\n",
              "12642    168703  ...                  2\n",
              "\n",
              "[10 rows x 4 columns]"
            ]
          },
          "metadata": {
            "tags": []
          },
          "execution_count": 31
        }
      ]
    },
    {
      "cell_type": "markdown",
      "metadata": {
        "id": "7si4TQZh6E-D"
      },
      "source": [
        "**2. Thay LSTM trong mô hình trên bằng GRU. So sánh thời gian, độ chính xác và đưa ra nhận xét**"
      ]
    },
    {
      "cell_type": "code",
      "metadata": {
        "colab": {
          "base_uri": "https://localhost:8080/"
        },
        "id": "Y0ZUkeBM6JVI",
        "outputId": "90b55859-c3b3-49fb-9e92-8ff81352f150"
      },
      "source": [
        "from tensorflow.keras.layers import GRU\n",
        "inputs = Input(shape=(None,))                   ## None biểu thị kích thước không xác định của câu\n",
        "\n",
        "embed = Embedding(input_dim=embedding_matrix.shape[0],   ## Khai báo kích thước của vocab\n",
        "                 output_dim=embedding_matrix.shape[1],   ## Khai báo kích thước của embedding\n",
        "                  embeddings_initializer = tf.keras.initializers.Constant(value=embedding_matrix),  ## Khởi tạo cho embedding bằng ma trận có sẵn\n",
        "                  trainable=False,                       ## Không cần thiết train embedding\n",
        "                 mask_zero=False)(inputs)                 ## zero_mask: những vị trí có giá trị 0 không được tính toán, vì đó là giá trị thêm vào cho đủ độ dài mà thôi\n",
        "                                                         ##  (__PADDED_INDEX__ gán bằng 0)\n",
        "\n",
        "spatial_dropout1D = tf.keras.layers.SpatialDropout1D(rate = 0.4)(embed)\n",
        "gru = GRU(units=100, name = 'gru')(spatial_dropout1D)       # keras.layers.GRU(200, name=\"gru\")\n",
        "\n",
        "dense_1 = Dense(units=50, activation=keras.activations.relu)(gru)\n",
        "\n",
        "dropout = Dropout(rate=0.3)(dense_1)\n",
        "\n",
        "dense_2 = Dense(units=5, activation='softmax')(dropout)\n",
        "model_2 = Model(inputs=inputs,\n",
        "              outputs=dense_2)\n",
        "\n",
        "model_2.compile(optimizer='adam',\n",
        "             loss='sparse_categorical_crossentropy',\n",
        "            metrics=['accuracy'])\n",
        "model_2.summary()"
      ],
      "execution_count": 32,
      "outputs": [
        {
          "output_type": "stream",
          "text": [
            "Model: \"functional_3\"\n",
            "_________________________________________________________________\n",
            "Layer (type)                 Output Shape              Param #   \n",
            "=================================================================\n",
            "input_2 (InputLayer)         [(None, None)]            0         \n",
            "_________________________________________________________________\n",
            "embedding_1 (Embedding)      (None, None, 100)         40000200  \n",
            "_________________________________________________________________\n",
            "spatial_dropout1d_1 (Spatial (None, None, 100)         0         \n",
            "_________________________________________________________________\n",
            "gru (GRU)                    (None, 100)               60600     \n",
            "_________________________________________________________________\n",
            "dense_2 (Dense)              (None, 50)                5050      \n",
            "_________________________________________________________________\n",
            "dropout_1 (Dropout)          (None, 50)                0         \n",
            "_________________________________________________________________\n",
            "dense_3 (Dense)              (None, 5)                 255       \n",
            "=================================================================\n",
            "Total params: 40,066,105\n",
            "Trainable params: 65,905\n",
            "Non-trainable params: 40,000,200\n",
            "_________________________________________________________________\n"
          ],
          "name": "stdout"
        }
      ]
    },
    {
      "cell_type": "code",
      "metadata": {
        "colab": {
          "base_uri": "https://localhost:8080/"
        },
        "id": "38fOIpPY7rnT",
        "outputId": "4d67b365-40bb-4779-eabc-094a0390203b"
      },
      "source": [
        "%%time\n",
        "mc = tf.keras.callbacks.ModelCheckpoint(filepath=\"gru.h5\", \n",
        "                                     monitor='val_loss',\n",
        "                                     mode='min', \n",
        "                                     verbose=0, \n",
        "                                     save_best_only=True)\n",
        "# Train\n",
        "history_2 = model_2.fit(X_train, y_train, \n",
        "          validation_data=(X_valid, y_valid),\n",
        "          # batch_size=64,\n",
        "          epochs=20,\n",
        "          callbacks=[mc])\n",
        "\n",
        "model_2.load_weights(\"gru.h5\")\n",
        "_, val_acc = model_2.evaluate(X_valid, y_valid)\n",
        "print(\"Accuracy on valid: \", val_acc)"
      ],
      "execution_count": 33,
      "outputs": [
        {
          "output_type": "stream",
          "text": [
            "Epoch 1/20\n",
            "3902/3902 [==============================] - 44s 11ms/step - loss: 1.1030 - accuracy: 0.5564 - val_loss: 0.9677 - val_accuracy: 0.6037\n",
            "Epoch 2/20\n",
            "3902/3902 [==============================] - 45s 11ms/step - loss: 1.0064 - accuracy: 0.5875 - val_loss: 0.9303 - val_accuracy: 0.6153\n",
            "Epoch 3/20\n",
            "3902/3902 [==============================] - 43s 11ms/step - loss: 0.9813 - accuracy: 0.5955 - val_loss: 0.9150 - val_accuracy: 0.6234\n",
            "Epoch 4/20\n",
            "3902/3902 [==============================] - 45s 12ms/step - loss: 0.9619 - accuracy: 0.6045 - val_loss: 0.9026 - val_accuracy: 0.6260\n",
            "Epoch 5/20\n",
            "3902/3902 [==============================] - 44s 11ms/step - loss: 0.9487 - accuracy: 0.6095 - val_loss: 0.8969 - val_accuracy: 0.6314\n",
            "Epoch 6/20\n",
            "3902/3902 [==============================] - 44s 11ms/step - loss: 0.9388 - accuracy: 0.6130 - val_loss: 0.8783 - val_accuracy: 0.6349\n",
            "Epoch 7/20\n",
            "3902/3902 [==============================] - 44s 11ms/step - loss: 0.9297 - accuracy: 0.6178 - val_loss: 0.8690 - val_accuracy: 0.6395\n",
            "Epoch 8/20\n",
            "3902/3902 [==============================] - 22s 6ms/step - loss: 0.9220 - accuracy: 0.6207 - val_loss: 0.8767 - val_accuracy: 0.6342\n",
            "Epoch 9/20\n",
            "3902/3902 [==============================] - 45s 11ms/step - loss: 0.9162 - accuracy: 0.6227 - val_loss: 0.8586 - val_accuracy: 0.6462\n",
            "Epoch 10/20\n",
            "3902/3902 [==============================] - 44s 11ms/step - loss: 0.9126 - accuracy: 0.6228 - val_loss: 0.8565 - val_accuracy: 0.6458\n",
            "Epoch 11/20\n",
            "3902/3902 [==============================] - 44s 11ms/step - loss: 0.9097 - accuracy: 0.6263 - val_loss: 0.8541 - val_accuracy: 0.6446\n",
            "Epoch 12/20\n",
            "3902/3902 [==============================] - 45s 12ms/step - loss: 0.9044 - accuracy: 0.6281 - val_loss: 0.8463 - val_accuracy: 0.6493\n",
            "Epoch 13/20\n",
            "3902/3902 [==============================] - 22s 6ms/step - loss: 0.9015 - accuracy: 0.6275 - val_loss: 0.8467 - val_accuracy: 0.6481\n",
            "Epoch 14/20\n",
            "3902/3902 [==============================] - 21s 5ms/step - loss: 0.8975 - accuracy: 0.6306 - val_loss: 0.8467 - val_accuracy: 0.6487\n",
            "Epoch 15/20\n",
            "3902/3902 [==============================] - 44s 11ms/step - loss: 0.8925 - accuracy: 0.6310 - val_loss: 0.8430 - val_accuracy: 0.6486\n",
            "Epoch 16/20\n",
            "3902/3902 [==============================] - 45s 11ms/step - loss: 0.8935 - accuracy: 0.6316 - val_loss: 0.8384 - val_accuracy: 0.6514\n",
            "Epoch 17/20\n",
            "3902/3902 [==============================] - 22s 6ms/step - loss: 0.8903 - accuracy: 0.6323 - val_loss: 0.8385 - val_accuracy: 0.6514\n",
            "Epoch 18/20\n",
            "3902/3902 [==============================] - 43s 11ms/step - loss: 0.8900 - accuracy: 0.6331 - val_loss: 0.8371 - val_accuracy: 0.6515\n",
            "Epoch 19/20\n",
            "3902/3902 [==============================] - 44s 11ms/step - loss: 0.8898 - accuracy: 0.6330 - val_loss: 0.8349 - val_accuracy: 0.6518\n",
            "Epoch 20/20\n",
            "3902/3902 [==============================] - 21s 5ms/step - loss: 0.8840 - accuracy: 0.6357 - val_loss: 0.8350 - val_accuracy: 0.6542\n",
            "976/976 [==============================] - 3s 3ms/step - loss: 0.8349 - accuracy: 0.6518\n",
            "Accuracy on valid:  0.6518005728721619\n",
            "CPU times: user 12min 53s, sys: 1min 33s, total: 14min 27s\n",
            "Wall time: 12min 54s\n"
          ],
          "name": "stdout"
        }
      ]
    },
    {
      "cell_type": "code",
      "metadata": {
        "colab": {
          "base_uri": "https://localhost:8080/",
          "height": 265
        },
        "id": "m1KDin5p96r1",
        "outputId": "bec220d3-909f-4f70-90fb-1df3035bf239"
      },
      "source": [
        "# plot training history\n",
        "plt.plot(history_2.history['accuracy'], label='train')\n",
        "plt.plot(history_2.history['val_accuracy'], label='valid')\n",
        "plt.legend()\n",
        "plt.show()"
      ],
      "execution_count": 35,
      "outputs": [
        {
          "output_type": "display_data",
          "data": {
            "image/png": "[encoded data removed]",
            "text/plain": [
              "<Figure size 432x288 with 1 Axes>"
            ]
          },
          "metadata": {
            "tags": [],
            "needs_background": "light"
          }
        }
      ]
    },
    {
      "cell_type": "markdown",
      "metadata": {
        "id": "wFap1N9QWy-N"
      },
      "source": [
        "***Nhận xét:***\n",
        "\n",
        "*   LSTM: \n",
        "  + Accuracy trên tập valid: 0.6560617685317993\n",
        "  + Time: 11min 57s\n",
        "\n",
        "\n",
        "*   GRU:\n",
        "  + Accuracy trên tập valid: 0.6518005728721619\n",
        "  + Time: 12min 54s\n",
        "\n",
        " => Khi thay LSTM bằng GRU, accuracy giảm nhưng không đáng kể dù thời gian train tăng lên (nhưng tăng không nhiều)\n",
        "\n",
        "\n",
        "\n",
        "\n",
        "\n",
        "\n"
      ]
    },
    {
      "cell_type": "markdown",
      "metadata": {
        "id": "ZdErEEt6-1ny"
      },
      "source": [
        "**3. Tìm hiểu Convolution1D và mô hình sau:**"
      ]
    },
    {
      "cell_type": "markdown",
      "metadata": {
        "id": "wolVJZXX-j_6"
      },
      "source": [
        "![image.png](data:image/png;base64,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)"
      ]
    },
    {
      "cell_type": "code",
      "metadata": {
        "colab": {
          "base_uri": "https://localhost:8080/"
        },
        "id": "QzYxAwgw-BdM",
        "outputId": "bd0fef65-7819-4740-8794-a59ad9d4791b"
      },
      "source": [
        "from tensorflow.keras.layers import Convolution1D, Flatten, GlobalMaxPooling1D\n",
        "inputs = Input(shape=(None,))                   ## None biểu thị kích thước không xác định của câu\n",
        "\n",
        "embed = Embedding(input_dim=embedding_matrix.shape[0],   ## Khai báo kích thước của vocab\n",
        "                 output_dim=embedding_matrix.shape[1],   ## Khai báo kích thước của embedding\n",
        "                  embeddings_initializer = tf.keras.initializers.Constant(value=embedding_matrix),  ## Khởi tạo cho embedding bằng ma trận có sẵn\n",
        "                  trainable=False,                       ## Không cần thiết train embedding\n",
        "                 mask_zero=False)(inputs)                 ## zero_mask: những vị trí có giá trị 0 không được tính toán, vì đó là giá trị thêm vào cho đủ độ dài mà thôi\n",
        "                                                         ##  (__PADDED_INDEX__ gán bằng 0)\n",
        "\n",
        "convolution1D = Convolution1D(filters=100,\n",
        "                                 kernel_size=3,\n",
        "                                 strides= 2,\n",
        "                                 padding='valid',\n",
        "                                 activation=tf.nn.elu)(embed)\n",
        "globalmaxpooling1D = GlobalMaxPooling1D()(convolution1D)\n",
        "\n",
        "flatten = Flatten()(globalmaxpooling1D)                               \n",
        "\n",
        "dense_1 = Dense(units=100, activation=keras.activations.relu)(flatten)\n",
        "\n",
        "dropout = Dropout(rate=0.3)(dense_1)\n",
        "\n",
        "dense_2 = Dense(units=5, activation='softmax')(dropout)\n",
        "model_3 = Model(inputs=inputs,\n",
        "              outputs=dense_2)\n",
        "\n",
        "model_3.compile(optimizer='adam',\n",
        "             loss='sparse_categorical_crossentropy',\n",
        "            metrics=['accuracy'])\n",
        "model_3.summary()"
      ],
      "execution_count": 36,
      "outputs": [
        {
          "output_type": "stream",
          "text": [
            "Model: \"functional_5\"\n",
            "_________________________________________________________________\n",
            "Layer (type)                 Output Shape              Param #   \n",
            "=================================================================\n",
            "input_3 (InputLayer)         [(None, None)]            0         \n",
            "_________________________________________________________________\n",
            "embedding_2 (Embedding)      (None, None, 100)         40000200  \n",
            "_________________________________________________________________\n",
            "conv1d (Conv1D)              (None, None, 100)         30100     \n",
            "_________________________________________________________________\n",
            "global_max_pooling1d (Global (None, 100)               0         \n",
            "_________________________________________________________________\n",
            "flatten (Flatten)            (None, 100)               0         \n",
            "_________________________________________________________________\n",
            "dense_4 (Dense)              (None, 100)               10100     \n",
            "_________________________________________________________________\n",
            "dropout_2 (Dropout)          (None, 100)               0         \n",
            "_________________________________________________________________\n",
            "dense_5 (Dense)              (None, 5)                 505       \n",
            "=================================================================\n",
            "Total params: 40,040,905\n",
            "Trainable params: 40,705\n",
            "Non-trainable params: 40,000,200\n",
            "_________________________________________________________________\n"
          ],
          "name": "stdout"
        }
      ]
    },
    {
      "cell_type": "code",
      "metadata": {
        "colab": {
          "base_uri": "https://localhost:8080/"
        },
        "id": "IwCUSHiVE_1y",
        "outputId": "bc92320c-cad1-448a-deb8-dd9375f77c52"
      },
      "source": [
        "%%time\n",
        "mc = tf.keras.callbacks.ModelCheckpoint(filepath=\"model_3.h5\", \n",
        "                                     monitor='val_loss',\n",
        "                                     mode='min', \n",
        "                                     verbose=0, \n",
        "                                     save_best_only=True)\n",
        "# Train\n",
        "history_3 = model_3.fit(X_train, y_train, \n",
        "          validation_data=(X_valid, y_valid),\n",
        "          epochs=20,\n",
        "          callbacks=[mc])\n",
        "\n",
        "model_3.load_weights(\"model_3.h5\")\n",
        "_, val_acc = model_3.evaluate(X_valid, y_valid)\n",
        "print(\"Accuracy on valid: \", val_acc)"
      ],
      "execution_count": 37,
      "outputs": [
        {
          "output_type": "stream",
          "text": [
            "Epoch 1/20\n",
            "3902/3902 [==============================] - 36s 9ms/step - loss: 1.0089 - accuracy: 0.5848 - val_loss: 0.9421 - val_accuracy: 0.6094\n",
            "Epoch 2/20\n",
            "3902/3902 [==============================] - 12s 3ms/step - loss: 0.9331 - accuracy: 0.6106 - val_loss: 0.9477 - val_accuracy: 0.6051\n",
            "Epoch 3/20\n",
            "3902/3902 [==============================] - 35s 9ms/step - loss: 0.8994 - accuracy: 0.6243 - val_loss: 0.9066 - val_accuracy: 0.6239\n",
            "Epoch 4/20\n",
            "3902/3902 [==============================] - 35s 9ms/step - loss: 0.8713 - accuracy: 0.6351 - val_loss: 0.9051 - val_accuracy: 0.6261\n",
            "Epoch 5/20\n",
            "3902/3902 [==============================] - 35s 9ms/step - loss: 0.8503 - accuracy: 0.6440 - val_loss: 0.9002 - val_accuracy: 0.6270\n",
            "Epoch 6/20\n",
            "3902/3902 [==============================] - 35s 9ms/step - loss: 0.8318 - accuracy: 0.6511 - val_loss: 0.8973 - val_accuracy: 0.6305\n",
            "Epoch 7/20\n",
            "3902/3902 [==============================] - 12s 3ms/step - loss: 0.8164 - accuracy: 0.6561 - val_loss: 0.9121 - val_accuracy: 0.6270\n",
            "Epoch 8/20\n",
            "3902/3902 [==============================] - 12s 3ms/step - loss: 0.8044 - accuracy: 0.6621 - val_loss: 0.9246 - val_accuracy: 0.6290\n",
            "Epoch 9/20\n",
            "3902/3902 [==============================] - 12s 3ms/step - loss: 0.7931 - accuracy: 0.6661 - val_loss: 0.9097 - val_accuracy: 0.6308\n",
            "Epoch 10/20\n",
            "3902/3902 [==============================] - 12s 3ms/step - loss: 0.7825 - accuracy: 0.6697 - val_loss: 0.9081 - val_accuracy: 0.6276\n",
            "Epoch 11/20\n",
            "3902/3902 [==============================] - 13s 3ms/step - loss: 0.7747 - accuracy: 0.6724 - val_loss: 0.9158 - val_accuracy: 0.6300\n",
            "Epoch 12/20\n",
            "3902/3902 [==============================] - 12s 3ms/step - loss: 0.7655 - accuracy: 0.6766 - val_loss: 0.9144 - val_accuracy: 0.6257\n",
            "Epoch 13/20\n",
            "3902/3902 [==============================] - 12s 3ms/step - loss: 0.7573 - accuracy: 0.6798 - val_loss: 0.9168 - val_accuracy: 0.6307\n",
            "Epoch 14/20\n",
            "3902/3902 [==============================] - 12s 3ms/step - loss: 0.7529 - accuracy: 0.6804 - val_loss: 0.9176 - val_accuracy: 0.6286\n",
            "Epoch 15/20\n",
            "3902/3902 [==============================] - 12s 3ms/step - loss: 0.7451 - accuracy: 0.6834 - val_loss: 0.9414 - val_accuracy: 0.6286\n",
            "Epoch 16/20\n",
            "3902/3902 [==============================] - 12s 3ms/step - loss: 0.7407 - accuracy: 0.6866 - val_loss: 0.9235 - val_accuracy: 0.6290\n",
            "Epoch 17/20\n",
            "3902/3902 [==============================] - 12s 3ms/step - loss: 0.7345 - accuracy: 0.6883 - val_loss: 0.9362 - val_accuracy: 0.6296\n",
            "Epoch 18/20\n",
            "3902/3902 [==============================] - 13s 3ms/step - loss: 0.7304 - accuracy: 0.6888 - val_loss: 0.9609 - val_accuracy: 0.6247\n",
            "Epoch 19/20\n",
            "3902/3902 [==============================] - 13s 3ms/step - loss: 0.7260 - accuracy: 0.6902 - val_loss: 0.9659 - val_accuracy: 0.6266\n",
            "Epoch 20/20\n",
            "3902/3902 [==============================] - 12s 3ms/step - loss: 0.7206 - accuracy: 0.6942 - val_loss: 0.9667 - val_accuracy: 0.6247\n",
            "976/976 [==============================] - 2s 2ms/step - loss: 0.8973 - accuracy: 0.6305\n",
            "Accuracy on valid:  0.6304946541786194\n",
            "CPU times: user 6min 38s, sys: 57.3 s, total: 7min 36s\n",
            "Wall time: 6min 4s\n"
          ],
          "name": "stdout"
        }
      ]
    },
    {
      "cell_type": "code",
      "metadata": {
        "colab": {
          "base_uri": "https://localhost:8080/",
          "height": 265
        },
        "id": "ct58ETLOIvmn",
        "outputId": "a9351cfd-0e5a-4167-bf98-92f985250e2e"
      },
      "source": [
        "# plot training history\n",
        "plt.plot(history_3.history['accuracy'], label='train')\n",
        "plt.plot(history_3.history['val_accuracy'], label='valid')\n",
        "plt.legend()\n",
        "plt.show()"
      ],
      "execution_count": 38,
      "outputs": [
        {
          "output_type": "display_data",
          "data": {
            "image/png": "[encoded data removed]",
            "text/plain": [
              "<Figure size 432x288 with 1 Axes>"
            ]
          },
          "metadata": {
            "tags": [],
            "needs_background": "light"
          }
        }
      ]
    },
    {
      "cell_type": "markdown",
      "metadata": {
        "id": "R5S9P8d4YOlC"
      },
      "source": [
        "**Convolution1D:** \n",
        "- Giảm chiều input\n",
        "- Giúp tính toán nhanh hơn\n",
        "\n",
        "Accuracy trên tập valid: 0.6304946541786194\n",
        "\n",
        "Dù accuracy trên tập valid giảm nhưng thời gian train giảm đi đáng kể: 6min 4s "
      ]
    }
  ]
}